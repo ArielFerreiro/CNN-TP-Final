{
  "nbformat": 4,
  "nbformat_minor": 0,
  "metadata": {
    "accelerator": "GPU",
    "colab": {
      "name": "Trabajo Final CNN - Style Transfer.ipynb",
      "provenance": [],
      "collapsed_sections": []
    },
    "kernelspec": {
      "display_name": "Python 3",
      "language": "python",
      "name": "python3"
    },
    "language_info": {
      "codemirror_mode": {
        "name": "ipython",
        "version": 3
      },
      "file_extension": ".py",
      "mimetype": "text/x-python",
      "name": "python",
      "nbconvert_exporter": "python",
      "pygments_lexer": "ipython3",
      "version": "3.8.5"
    }
  },
  "cells": [
    {
      "cell_type": "markdown",
      "metadata": {
        "id": "qCY6UbkkI9_N"
      },
      "source": [
        "# Style Transfer\n",
        "\n",
        "<img src=\"https://i0.wp.com/chelseatroy.com/wp-content/uploads/2018/12/neural_style_transfer.png?resize=768%2C311&ssl=1\">\n",
        "\n",
        "La idea de este trabajo final es reproducir el siguiente paper:\n",
        "\n",
        "https://arxiv.org/pdf/1508.06576.pdf\n",
        "\n",
        "El objetivo es transferir el estilo de una imagen dada a otra imagen distinta. \n",
        "\n",
        "Como hemos visto en clase, las primeras capas de una red convolucional se activan ante la presencia de ciertos patrones vinculados a detalles muy pequeños.\n",
        "\n",
        "A medida que avanzamos en las distintas capas de una red neuronal convolucional, los filtros se van activando a medida que detectan patrones de formas cada vez mas complejos.\n",
        "\n",
        "Lo que propone este paper es asignarle a la activación de las primeras capas de una red neuronal convolucional (por ejemplo VGG19) la definición del estilo y a la activación de las últimas capas de la red neuronal convolucional, la definición del contenido.\n",
        "\n",
        "La idea de este paper es, a partir de dos imágenes (una que aporte el estilo y otra que aporte el contenido) analizar cómo es la activación de las primeras capas para la imagen que aporta el estilo y cómo es la activación de las últimas capas de la red convolucional para la imagen que aporta el contenido. A partir de esto se intentará sintetizar una imagen que active los filtros de las primeras capas que se activaron con la imagen que aporta el estilo y los filtros de las últimas capas que se activaron con la imagen que aporta el contenido.\n",
        "\n",
        "A este procedimiento se lo denomina neural style transfer.\n",
        "\n",
        "# En este trabajo se deberá leer el paper mencionado y en base a ello, entender la implementación que se muestra a continuación y contestar preguntas sobre la misma.\n",
        "\n",
        "# Una metodología posible es hacer una lectura rápida del paper (aunque esto signifique no entender algunos detalles del mismo) y luego ir analizando el código y respondiendo las preguntas. A medida que se planteen las preguntas, volviendo a leer secciones específicas del paper terminará de entender los detalles que pudieran haber quedado pendientes.\n",
        "\n",
        "Lo primero que haremos es cargar dos imágenes, una que aporte el estilo y otra que aporte el contenido. A tal fin utilizaremos imágenes disponibles en la web."
      ]
    },
    {
      "cell_type": "code",
      "metadata": {
        "id": "8JgIwkyfDyIv",
        "outputId": "8286b308-13d5-4f51-a55d-49571d2b83af",
        "colab": {
          "base_uri": "https://localhost:8080/"
        }
      },
      "source": [
        "import sys\n",
        "from google.colab import drive\n",
        "drive.mount('/content/drive')\n",
        "\n",
        "\n",
        "BASE=\"/content/drive/My Drive/Colab Notebooks/TP_Final_CV\"\n",
        "sys.path.append(BASE)"
      ],
      "execution_count": 1,
      "outputs": [
        {
          "output_type": "stream",
          "text": [
            "Mounted at /content/drive\n"
          ],
          "name": "stdout"
        }
      ]
    },
    {
      "cell_type": "code",
      "metadata": {
        "id": "HG4gLDPDETrT",
        "outputId": "65f8582b-97a0-40b5-b25f-5497415f22be",
        "colab": {
          "base_uri": "https://localhost:8080/"
        }
      },
      "source": [
        "!cd  \"{BASE}\"\n",
        "!ls -ltr"
      ],
      "execution_count": 2,
      "outputs": [
        {
          "output_type": "stream",
          "text": [
            "total 8\n",
            "drwxr-xr-x 1 root root 4096 Oct 28 16:30 sample_data\n",
            "drwx------ 5 root root 4096 Nov  1 12:45 drive\n"
          ],
          "name": "stdout"
        }
      ]
    },
    {
      "cell_type": "code",
      "metadata": {
        "id": "kyHsa2t0SxZi",
        "outputId": "ae8107ba-a1f9-4302-e047-cc8509c3c3c8",
        "colab": {
          "base_uri": "https://localhost:8080/"
        }
      },
      "source": [
        "# Imagen para estilo\n",
        "\n",
        "!cd \"{BASE}\" &&  wget https://upload.wikimedia.org/wikipedia/commons/5/52/La_noche_estrellada1.jpg\n",
        "\n",
        "# Imagen para contenido\n",
        "!cd \"{BASE}\" && wget https://upload.wikimedia.org/wikipedia/commons/thumb/f/f4/Neckarfront_T%C3%BCbingen_Mai_2017.jpg/775px-Neckarfront_T%C3%BCbingen_Mai_2017.jpg\n",
        "\n",
        "# Creamos el directorio para los archivos de salida\n",
        "!mkdir \"{BASE}/output\" "
      ],
      "execution_count": 3,
      "outputs": [
        {
          "output_type": "stream",
          "text": [
            "--2020-11-01 12:45:37--  https://upload.wikimedia.org/wikipedia/commons/5/52/La_noche_estrellada1.jpg\n",
            "Resolving upload.wikimedia.org (upload.wikimedia.org)... 208.80.153.240, 2620:0:860:ed1a::2:b\n",
            "Connecting to upload.wikimedia.org (upload.wikimedia.org)|208.80.153.240|:443... connected.\n",
            "HTTP request sent, awaiting response... 200 OK\n",
            "Length: 223725 (218K) [image/jpeg]\n",
            "Saving to: ‘La_noche_estrellada1.jpg’\n",
            "\n",
            "La_noche_estrellada 100%[===================>] 218.48K  --.-KB/s    in 0.1s    \n",
            "\n",
            "2020-11-01 12:45:37 (2.23 MB/s) - ‘La_noche_estrellada1.jpg’ saved [223725/223725]\n",
            "\n",
            "--2020-11-01 12:45:38--  https://upload.wikimedia.org/wikipedia/commons/thumb/f/f4/Neckarfront_T%C3%BCbingen_Mai_2017.jpg/775px-Neckarfront_T%C3%BCbingen_Mai_2017.jpg\n",
            "Resolving upload.wikimedia.org (upload.wikimedia.org)... 208.80.153.240, 2620:0:860:ed1a::2:b\n",
            "Connecting to upload.wikimedia.org (upload.wikimedia.org)|208.80.153.240|:443... connected.\n",
            "HTTP request sent, awaiting response... 200 OK\n",
            "Length: 153015 (149K) [image/jpeg]\n",
            "Saving to: ‘775px-Neckarfront_Tübingen_Mai_2017.jpg’\n",
            "\n",
            "775px-Neckarfront_T 100%[===================>] 149.43K  --.-KB/s    in 0.08s   \n",
            "\n",
            "2020-11-01 12:45:38 (1.89 MB/s) - ‘775px-Neckarfront_Tübingen_Mai_2017.jpg’ saved [153015/153015]\n",
            "\n"
          ],
          "name": "stdout"
        }
      ]
    },
    {
      "cell_type": "code",
      "metadata": {
        "id": "9dXaKTPnJwjv",
        "outputId": "74943f09-5390-4153-e99f-2dfdbcf62958",
        "colab": {
          "base_uri": "https://localhost:8080/"
        }
      },
      "source": [
        "# !ls -ltr \"{BASE}\"\n",
        "# !cd \"{BASE}\" && rm \"{BASE}/775*\" \n",
        "!ls -ltr \"{BASE}\""
      ],
      "execution_count": 4,
      "outputs": [
        {
          "output_type": "stream",
          "text": [
            "total 372\n",
            "-rw------- 1 root root 223725 Oct 10  2014 La_noche_estrellada1.jpg\n",
            "-rw------- 1 root root 153015 May 25  2017 775px-Neckarfront_Tübingen_Mai_2017.jpg\n",
            "drwx------ 2 root root   4096 Nov  1 12:45 output\n"
          ],
          "name": "stdout"
        }
      ]
    },
    {
      "cell_type": "code",
      "metadata": {
        "id": "NIxH20o2eFoc"
      },
      "source": [
        "from keras.preprocessing.image import load_img, save_img, img_to_array\n",
        "import numpy as np\n",
        "from scipy.optimize import fmin_l_bfgs_b\n",
        "import time\n",
        "import argparse\n",
        "\n",
        "from keras.applications import vgg19\n",
        "from keras import backend as K\n",
        "from pathlib import Path"
      ],
      "execution_count": 5,
      "outputs": []
    },
    {
      "cell_type": "code",
      "metadata": {
        "id": "G8CsoFpF62iw",
        "outputId": "d8febe5d-b6ea-4fd7-b44f-6547bc46ef88",
        "colab": {
          "base_uri": "https://localhost:8080/"
        }
      },
      "source": [
        "import tensorflow as tf\n",
        "print(tf.__version__)\n",
        "tf.compat.v1.disable_eager_execution()"
      ],
      "execution_count": 6,
      "outputs": [
        {
          "output_type": "stream",
          "text": [
            "2.3.0\n"
          ],
          "name": "stdout"
        }
      ]
    },
    {
      "cell_type": "code",
      "metadata": {
        "id": "iLkV1bnFl_tK",
        "outputId": "2258fed9-b6cb-40e1-a65f-9c8efb1feb7f",
        "colab": {
          "base_uri": "https://localhost:8080/"
        }
      },
      "source": [
        "# Definimos las imagenes que vamos a utilizar, y el directorio de salida\n",
        "\n",
        "base_image_path = Path(BASE + \"/775px-Neckarfront_Tübingen_Mai_2017.jpg\")\n",
        "style_reference_image_path = Path(BASE + \"/La_noche_estrellada1.jpg\")\n",
        "result_prefix = Path(BASE + \"/output\")\n",
        "iterations = 100\n",
        "\n",
        "!ls \"{base_image_path}\"\n",
        "!ls \"{style_reference_image_path}\"\n",
        "!ls \"{result_prefix}\""
      ],
      "execution_count": 7,
      "outputs": [
        {
          "output_type": "stream",
          "text": [
            "'/content/drive/My Drive/Colab Notebooks/TP_Final_CV/775px-Neckarfront_Tübingen_Mai_2017.jpg'\n",
            "'/content/drive/My Drive/Colab Notebooks/TP_Final_CV/La_noche_estrellada1.jpg'\n"
          ],
          "name": "stdout"
        }
      ]
    },
    {
      "cell_type": "markdown",
      "metadata": {
        "id": "xxanZfS-4S7H"
      },
      "source": [
        "# Analisis de las imagenes a utilizar"
      ]
    },
    {
      "cell_type": "code",
      "metadata": {
        "id": "w86fL4-a4Wya",
        "outputId": "a10f53c7-49b8-41a5-af9c-3b76f71fe151",
        "colab": {
          "base_uri": "https://localhost:8080/",
          "height": 186
        }
      },
      "source": [
        "import matplotlib.pyplot as plt\n",
        "from PIL import Image \n",
        "  \n",
        "# Leo las imagenes del disco y las visualizo \n",
        "base_img = Image.open(base_image_path) \n",
        "style_img = Image.open(style_reference_image_path) \n",
        "\n",
        "fig, (ax1, ax2) = plt.subplots(1, 2)\n",
        "\n",
        "ax1.set_title(\"Imagen 'CONTENIDO'\")\n",
        "imgplot = ax1.imshow(base_img)\n",
        "     \n",
        "# ax2.title(style_reference_image_path)\n",
        "ax2.set_title(\"Imagen 'ESTILO'\")\n",
        "imgplot = ax2.imshow(style_img)\n",
        "plt.show()"
      ],
      "execution_count": 9,
      "outputs": [
        {
          "output_type": "display_data",
          "data": {
            "image/png": "[encoded data removed]",
            "text/plain": [
              "<Figure size 432x288 with 2 Axes>"
            ]
          },
          "metadata": {
            "tags": [],
            "needs_background": "light"
          }
        }
      ]
    },
    {
      "cell_type": "code",
      "metadata": {
        "id": "-d4XHmf_5cm_",
        "outputId": "ee92cbe4-e714-4ce7-942c-b70daf182dab",
        "colab": {
          "base_uri": "https://localhost:8080/"
        }
      },
      "source": [
        "width_c, height_c = base_img.size\n",
        "print(\"Imagen contenido:\", base_image_path)\n",
        "print(\"Ancho:\", width_c)\n",
        "print(\"Alto:\", height_c)\n",
        "\n",
        "width_s, height_s = style_img.size\n",
        "print(\"Imagen estilo:\", style_reference_image_path)\n",
        "print(\"Ancho:\", width_c)\n",
        "print(\"Alto:\", height_c)\n",
        "\n",
        "# Parecieran tener el mismo tamanio: OK"
      ],
      "execution_count": 15,
      "outputs": [
        {
          "output_type": "stream",
          "text": [
            "Imagen contenido: /content/drive/My Drive/Colab Notebooks/TP_Final_CV/775px-Neckarfront_Tübingen_Mai_2017.jpg\n",
            "Ancho: 775\n",
            "Alto: 599\n",
            "Imagen estilo: /content/drive/My Drive/Colab Notebooks/TP_Final_CV/La_noche_estrellada1.jpg\n",
            "Ancho: 775\n",
            "Alto: 599\n"
          ],
          "name": "stdout"
        }
      ]
    },
    {
      "cell_type": "markdown",
      "metadata": {
        "id": "Gz2PeGfpeYzj"
      },
      "source": [
        "# 1) En base a lo visto en el paper ¿Qué significan los parámetros definidos en la siguiente celda?\n",
        "\n",
        "Respuesta:\n"
      ]
    },
    {
      "cell_type": "markdown",
      "metadata": {
        "id": "EAYr7vyCAb10"
      },
      "source": [
        ""
      ]
    },
    {
      "cell_type": "code",
      "metadata": {
        "id": "P9Dt3aaEmJWS"
      },
      "source": [
        "total_variation_weight = 0.1\n",
        "style_weight = 10\n",
        "content_weight = 1"
      ],
      "execution_count": null,
      "outputs": []
    },
    {
      "cell_type": "code",
      "metadata": {
        "id": "CQQJOhCVuse6"
      },
      "source": [
        "# Definimos el tamaño de las imágenes a utilizar\n",
        "width, height = load_img(base_image_path).size\n",
        "img_nrows = 400\n",
        "img_ncols = int(width * img_nrows / height)"
      ],
      "execution_count": null,
      "outputs": []
    },
    {
      "cell_type": "markdown",
      "metadata": {
        "id": "gg2ct-8agm1E"
      },
      "source": [
        "# 2) Explicar qué hace la siguiente celda. En especial las últimas dos líneas de la función antes del return. ¿Por qué?\n",
        "\n",
        "Ayuda: https://keras.io/applications/\n",
        "\n",
        "Respuesta:"
      ]
    },
    {
      "cell_type": "code",
      "metadata": {
        "id": "tAkljg4zuzYd"
      },
      "source": [
        "def preprocess_image(image_path):\n",
        "    img = load_img(image_path, target_size=(img_nrows, img_ncols))\n",
        "    img = img_to_array(img)\n",
        "    img = np.expand_dims(img, axis=0)\n",
        "    img = vgg19.preprocess_input(img)\n",
        "    return img"
      ],
      "execution_count": null,
      "outputs": []
    },
    {
      "cell_type": "markdown",
      "metadata": {
        "id": "KTf0YDSagt10"
      },
      "source": [
        "# 3) Habiendo comprendido lo que hace la celda anterior, explique de manera muy concisa qué hace la siguiente celda. ¿Qué relación tiene con la celda anterior?\n",
        "\n",
        "Respuesta:"
      ]
    },
    {
      "cell_type": "code",
      "metadata": {
        "id": "y5LaTrsAu14z"
      },
      "source": [
        "def deprocess_image(x):\n",
        "    x = x.reshape((img_nrows, img_ncols, 3))\n",
        "    # Remove zero-center by mean pixel\n",
        "    x[:, :, 0] += 103.939\n",
        "    x[:, :, 1] += 116.779\n",
        "    x[:, :, 2] += 123.68\n",
        "    # 'BGR'->'RGB'\n",
        "    x = x[:, :, ::-1]\n",
        "    x = np.clip(x, 0, 255).astype('uint8')\n",
        "    return x"
      ],
      "execution_count": null,
      "outputs": []
    },
    {
      "cell_type": "code",
      "metadata": {
        "id": "IblgAI66Jnax",
        "outputId": "5aa1e859-b476-4c9a-9de0-4c1e0627275a",
        "colab": {
          "base_uri": "https://localhost:8080/"
        }
      },
      "source": [
        "!ls -l \"{BASE}\""
      ],
      "execution_count": null,
      "outputs": [
        {
          "output_type": "stream",
          "text": [
            "total 372\n",
            "-rw------- 1 root root 153015 May 25  2017 775px-Neckarfront_Tübingen_Mai_2017.jpg\n",
            "-rw------- 1 root root 223725 Oct  5  2013 La_noche_estrellada1.jpg\n",
            "drwx------ 2 root root   4096 Oct 31 23:08 output\n"
          ],
          "name": "stdout"
        }
      ]
    },
    {
      "cell_type": "code",
      "metadata": {
        "id": "HYNio09mu4S3"
      },
      "source": [
        "# get tensor representations of our images\n",
        "# K.variable convierte un numpy array en un tensor, para \n",
        "base_image = K.variable(preprocess_image(base_image_path))\n",
        "style_reference_image = K.variable(preprocess_image(style_reference_image_path))"
      ],
      "execution_count": null,
      "outputs": []
    },
    {
      "cell_type": "code",
      "metadata": {
        "id": "a1Lbw02Uu--o"
      },
      "source": [
        "combination_image = K.placeholder((1, img_nrows, img_ncols, 3))"
      ],
      "execution_count": null,
      "outputs": []
    },
    {
      "cell_type": "markdown",
      "metadata": {
        "id": "RJEi0YI3Uzrm"
      },
      "source": [
        "Aclaración:\n",
        "\n",
        "La siguiente celda sirve para procesar las tres imagenes (contenido, estilo y salida) en un solo batch."
      ]
    },
    {
      "cell_type": "code",
      "metadata": {
        "id": "gGO_jGFfvEbF"
      },
      "source": [
        "# combine the 3 images into a single Keras tensor\n",
        "input_tensor = K.concatenate([base_image,\n",
        "                              style_reference_image,\n",
        "                              combination_image], axis=0)"
      ],
      "execution_count": null,
      "outputs": []
    },
    {
      "cell_type": "code",
      "metadata": {
        "id": "tdG59VRavHGB",
        "outputId": "44c5af5a-2f5d-4e36-c586-2febe90362cd",
        "colab": {
          "base_uri": "https://localhost:8080/"
        }
      },
      "source": [
        "# build the VGG19 network with our 3 images as input\n",
        "# the model will be loaded with pre-trained ImageNet weights\n",
        "model = vgg19.VGG19(input_tensor=input_tensor,\n",
        "                    weights='imagenet', include_top=False)\n",
        "print('Model loaded.')\n",
        "\n",
        "# get the symbolic outputs of each \"key\" layer (we gave them unique names).\n",
        "outputs_dict = dict([(layer.name, layer.output) for layer in model.layers])"
      ],
      "execution_count": null,
      "outputs": [
        {
          "output_type": "stream",
          "text": [
            "Model loaded.\n"
          ],
          "name": "stdout"
        }
      ]
    },
    {
      "cell_type": "markdown",
      "metadata": {
        "id": "70-vs_jZkKVc"
      },
      "source": [
        "# 4) En la siguientes celdas:\n",
        "\n",
        "- ¿Qué es la matriz de Gram?¿Para qué se usa?\n",
        "- ¿Por qué se permutan las dimensiones de x?"
      ]
    },
    {
      "cell_type": "code",
      "metadata": {
        "id": "K1FODPATvJ1k"
      },
      "source": [
        "def gram_matrix(x):\n",
        "    features = K.batch_flatten(K.permute_dimensions(x, (2, 0, 1)))\n",
        "    gram = K.dot(features, K.transpose(features))\n",
        "    return gram"
      ],
      "execution_count": null,
      "outputs": []
    },
    {
      "cell_type": "markdown",
      "metadata": {
        "id": "vBQkKFY0Rbx-"
      },
      "source": [
        "# 5) Losses:\n",
        "\n",
        "Explicar qué mide cada una de las losses en las siguientes tres celdas.\n",
        "\n",
        "Rta:"
      ]
    },
    {
      "cell_type": "code",
      "metadata": {
        "id": "1-Gt0ahWvN6q"
      },
      "source": [
        "def style_loss(style, combination):\n",
        "    assert K.ndim(style) == 3\n",
        "    assert K.ndim(combination) == 3\n",
        "    S = gram_matrix(style)\n",
        "    C = gram_matrix(combination)\n",
        "    channels = 3\n",
        "    size = img_nrows * img_ncols\n",
        "    return K.sum(K.square(S - C)) / (4.0 * (channels ** 2) * (size ** 2))"
      ],
      "execution_count": null,
      "outputs": []
    },
    {
      "cell_type": "code",
      "metadata": {
        "id": "XCqnju5RvQCo"
      },
      "source": [
        "def content_loss(base, combination):\n",
        "    return K.sum(K.square(combination - base))\n"
      ],
      "execution_count": null,
      "outputs": []
    },
    {
      "cell_type": "code",
      "metadata": {
        "id": "udEp5h31vRnY"
      },
      "source": [
        "def total_variation_loss(x):\n",
        "    assert K.ndim(x) == 4\n",
        "    a = K.square(\n",
        "        x[:, :img_nrows - 1, :img_ncols - 1, :] - x[:, 1:, :img_ncols - 1, :])\n",
        "    b = K.square(\n",
        "        x[:, :img_nrows - 1, :img_ncols - 1, :] - x[:, :img_nrows - 1, 1:, :])\n",
        "    return K.sum(K.pow(a + b, 1.25))\n"
      ],
      "execution_count": null,
      "outputs": []
    },
    {
      "cell_type": "code",
      "metadata": {
        "id": "-65vcinbvTZ0"
      },
      "source": [
        "# Armamos la loss total\n",
        "loss = K.variable(0.0)\n",
        "layer_features = outputs_dict['block5_conv2']\n",
        "base_image_features = layer_features[0, :, :, :]\n",
        "combination_features = layer_features[2, :, :, :]\n",
        "loss = loss + content_weight * content_loss(base_image_features,\n",
        "                                            combination_features)\n",
        "\n",
        "feature_layers = ['block1_conv1', 'block2_conv1',\n",
        "                  'block3_conv1', 'block4_conv1',\n",
        "                  'block5_conv1']\n",
        "for layer_name in feature_layers:\n",
        "    layer_features = outputs_dict[layer_name]\n",
        "    style_reference_features = layer_features[1, :, :, :] \n",
        "    combination_features = layer_features[2, :, :, :]\n",
        "    sl = style_loss(style_reference_features, combination_features)\n",
        "    loss = loss + (style_weight / len(feature_layers)) * sl\n",
        "loss = loss + total_variation_weight * total_variation_loss(combination_image)"
      ],
      "execution_count": null,
      "outputs": []
    },
    {
      "cell_type": "code",
      "metadata": {
        "id": "No37hKbq6bmX",
        "outputId": "6e594589-3dec-4637-e03b-c59b2f9171ca",
        "colab": {
          "base_uri": "https://localhost:8080/",
          "height": 35
        }
      },
      "source": [
        "tf.__version__"
      ],
      "execution_count": null,
      "outputs": [
        {
          "output_type": "execute_result",
          "data": {
            "application/vnd.google.colaboratory.intrinsic+json": {
              "type": "string"
            },
            "text/plain": [
              "'2.3.0'"
            ]
          },
          "metadata": {
            "tags": []
          },
          "execution_count": 22
        }
      ]
    },
    {
      "cell_type": "code",
      "metadata": {
        "id": "pbz4n1OhvV2K"
      },
      "source": [
        "#tf.compat.v1.disable_eager_execution()\n",
        "grads = K.gradients(loss, combination_image)\n",
        "\n",
        "outputs = [loss]\n",
        "if isinstance(grads, (list, tuple)):\n",
        "    outputs += grads\n",
        "else:\n",
        "    outputs.append(grads)\n",
        "\n",
        "f_outputs = K.function([combination_image], outputs)"
      ],
      "execution_count": null,
      "outputs": []
    },
    {
      "cell_type": "markdown",
      "metadata": {
        "id": "1JbydbOaVcvU"
      },
      "source": [
        "# 6) Explique el propósito de las siguientes tres celdas. ¿Qué hace la función fmin_l_bfgs_b? ¿En qué se diferencia con la implementación del paper? ¿Se puede utilizar alguna alternativa?\n",
        "\n",
        "Respuesta:"
      ]
    },
    {
      "cell_type": "code",
      "metadata": {
        "id": "zVE1_qemvZeN"
      },
      "source": [
        "def eval_loss_and_grads(x):\n",
        "    x = x.reshape((1, img_nrows, img_ncols, 3))\n",
        "    outs = f_outputs([x])\n",
        "    loss_value = outs[0]\n",
        "    if len(outs[1:]) == 1:\n",
        "        grad_values = outs[1].flatten().astype('float64')\n",
        "    else:\n",
        "        grad_values = np.array(outs[1:]).flatten().astype('float64')\n",
        "    return loss_value, grad_values\n",
        "\n",
        "# this Evaluator class makes it possible\n",
        "# to compute loss and gradients in one pass\n",
        "# while retrieving them via two separate functions,\n",
        "# \"loss\" and \"grads\". This is done because scipy.optimize\n",
        "# requires separate functions for loss and gradients,\n",
        "# but computing them separately would be inefficient."
      ],
      "execution_count": null,
      "outputs": []
    },
    {
      "cell_type": "code",
      "metadata": {
        "id": "Qbl9roIgvdb1"
      },
      "source": [
        "class Evaluator(object):\n",
        "\n",
        "    def __init__(self):\n",
        "        self.loss_value = None\n",
        "        self.grads_values = None\n",
        "\n",
        "    def loss(self, x):\n",
        "        assert self.loss_value is None\n",
        "        loss_value, grad_values = eval_loss_and_grads(x)\n",
        "        self.loss_value = loss_value\n",
        "        self.grad_values = grad_values\n",
        "        return self.loss_value\n",
        "\n",
        "    def grads(self, x):\n",
        "        assert self.loss_value is not None\n",
        "        grad_values = np.copy(self.grad_values)\n",
        "        self.loss_value = None\n",
        "        self.grad_values = None\n",
        "        return grad_values"
      ],
      "execution_count": null,
      "outputs": []
    },
    {
      "cell_type": "markdown",
      "metadata": {
        "id": "Sb0yOEl-WOE6"
      },
      "source": [
        "# 7) Ejecute la siguiente celda y observe las imágenes de salida en cada iteración."
      ]
    },
    {
      "cell_type": "code",
      "metadata": {
        "id": "n31YBwCVvhAI",
        "outputId": "89278e82-28de-486e-d7f2-92df878d39a1",
        "colab": {
          "base_uri": "https://localhost:8080/"
        }
      },
      "source": [
        "evaluator = Evaluator()\n",
        "\n",
        "# run scipy-based optimization (L-BFGS) over the pixels of the generated image\n",
        "# so as to minimize the neural style loss\n",
        "x = preprocess_image(base_image_path)\n",
        "\n",
        "for i in range(iterations):\n",
        "    print('Start of iteration', i)\n",
        "    start_time = time.time()\n",
        "    x, min_val, info = fmin_l_bfgs_b(evaluator.loss, x.flatten(),\n",
        "                                     fprime=evaluator.grads, maxfun=20)\n",
        "    print('Current loss value:', min_val)\n",
        "    # save current generated image\n",
        "    img = deprocess_image(x.copy())\n",
        "    fname = result_prefix / ('output_at_iteration_%d.png' % i)\n",
        "    save_img(fname, img)\n",
        "    end_time = time.time()\n",
        "    print('Image saved as', fname)\n",
        "    print('Iteration %d completed in %ds' % (i, end_time - start_time))"
      ],
      "execution_count": null,
      "outputs": [
        {
          "output_type": "stream",
          "text": [
            "Start of iteration 0\n",
            "Current loss value: 13279810000.0\n",
            "Image saved as /content/drive/My Drive/Colab Notebooks/TP_Final_CV/output/output_at_iteration_0.png\n",
            "Iteration 0 completed in 13s\n",
            "Start of iteration 1\n",
            "Current loss value: 6601007600.0\n",
            "Image saved as /content/drive/My Drive/Colab Notebooks/TP_Final_CV/output/output_at_iteration_1.png\n",
            "Iteration 1 completed in 5s\n",
            "Start of iteration 2\n",
            "Current loss value: 4567562000.0\n",
            "Image saved as /content/drive/My Drive/Colab Notebooks/TP_Final_CV/output/output_at_iteration_2.png\n",
            "Iteration 2 completed in 5s\n",
            "Start of iteration 3\n",
            "Current loss value: 3491404800.0\n",
            "Image saved as /content/drive/My Drive/Colab Notebooks/TP_Final_CV/output/output_at_iteration_3.png\n",
            "Iteration 3 completed in 5s\n",
            "Start of iteration 4\n",
            "Current loss value: 2881325800.0\n",
            "Image saved as /content/drive/My Drive/Colab Notebooks/TP_Final_CV/output/output_at_iteration_4.png\n",
            "Iteration 4 completed in 5s\n",
            "Start of iteration 5\n",
            "Current loss value: 2464928000.0\n",
            "Image saved as /content/drive/My Drive/Colab Notebooks/TP_Final_CV/output/output_at_iteration_5.png\n",
            "Iteration 5 completed in 5s\n",
            "Start of iteration 6\n",
            "Current loss value: 2141810400.0\n",
            "Image saved as /content/drive/My Drive/Colab Notebooks/TP_Final_CV/output/output_at_iteration_6.png\n",
            "Iteration 6 completed in 5s\n",
            "Start of iteration 7\n",
            "Current loss value: 1964984300.0\n",
            "Image saved as /content/drive/My Drive/Colab Notebooks/TP_Final_CV/output/output_at_iteration_7.png\n",
            "Iteration 7 completed in 5s\n",
            "Start of iteration 8\n",
            "Current loss value: 1837396200.0\n",
            "Image saved as /content/drive/My Drive/Colab Notebooks/TP_Final_CV/output/output_at_iteration_8.png\n",
            "Iteration 8 completed in 5s\n",
            "Start of iteration 9\n",
            "Current loss value: 1741833200.0\n",
            "Image saved as /content/drive/My Drive/Colab Notebooks/TP_Final_CV/output/output_at_iteration_9.png\n",
            "Iteration 9 completed in 5s\n",
            "Start of iteration 10\n",
            "Current loss value: 1639307000.0\n",
            "Image saved as /content/drive/My Drive/Colab Notebooks/TP_Final_CV/output/output_at_iteration_10.png\n",
            "Iteration 10 completed in 5s\n",
            "Start of iteration 11\n",
            "Current loss value: 1570288400.0\n",
            "Image saved as /content/drive/My Drive/Colab Notebooks/TP_Final_CV/output/output_at_iteration_11.png\n",
            "Iteration 11 completed in 5s\n",
            "Start of iteration 12\n",
            "Current loss value: 1518353200.0\n",
            "Image saved as /content/drive/My Drive/Colab Notebooks/TP_Final_CV/output/output_at_iteration_12.png\n",
            "Iteration 12 completed in 5s\n",
            "Start of iteration 13\n",
            "Current loss value: 1443774300.0\n",
            "Image saved as /content/drive/My Drive/Colab Notebooks/TP_Final_CV/output/output_at_iteration_13.png\n",
            "Iteration 13 completed in 6s\n",
            "Start of iteration 14\n",
            "Current loss value: 1399728600.0\n",
            "Image saved as /content/drive/My Drive/Colab Notebooks/TP_Final_CV/output/output_at_iteration_14.png\n",
            "Iteration 14 completed in 5s\n",
            "Start of iteration 15\n",
            "Current loss value: 1355340800.0\n",
            "Image saved as /content/drive/My Drive/Colab Notebooks/TP_Final_CV/output/output_at_iteration_15.png\n",
            "Iteration 15 completed in 5s\n",
            "Start of iteration 16\n",
            "Current loss value: 1321594900.0\n",
            "Image saved as /content/drive/My Drive/Colab Notebooks/TP_Final_CV/output/output_at_iteration_16.png\n",
            "Iteration 16 completed in 5s\n",
            "Start of iteration 17\n",
            "Current loss value: 1299103500.0\n",
            "Image saved as /content/drive/My Drive/Colab Notebooks/TP_Final_CV/output/output_at_iteration_17.png\n",
            "Iteration 17 completed in 5s\n",
            "Start of iteration 18\n",
            "Current loss value: 1271880400.0\n",
            "Image saved as /content/drive/My Drive/Colab Notebooks/TP_Final_CV/output/output_at_iteration_18.png\n",
            "Iteration 18 completed in 6s\n",
            "Start of iteration 19\n",
            "Current loss value: 1252935000.0\n",
            "Image saved as /content/drive/My Drive/Colab Notebooks/TP_Final_CV/output/output_at_iteration_19.png\n",
            "Iteration 19 completed in 5s\n",
            "Start of iteration 20\n",
            "Current loss value: 1237058800.0\n",
            "Image saved as /content/drive/My Drive/Colab Notebooks/TP_Final_CV/output/output_at_iteration_20.png\n",
            "Iteration 20 completed in 5s\n",
            "Start of iteration 21\n",
            "Current loss value: 1220310400.0\n",
            "Image saved as /content/drive/My Drive/Colab Notebooks/TP_Final_CV/output/output_at_iteration_21.png\n",
            "Iteration 21 completed in 5s\n",
            "Start of iteration 22\n",
            "Current loss value: 1206854400.0\n",
            "Image saved as /content/drive/My Drive/Colab Notebooks/TP_Final_CV/output/output_at_iteration_22.png\n",
            "Iteration 22 completed in 5s\n",
            "Start of iteration 23\n",
            "Current loss value: 1190522000.0\n",
            "Image saved as /content/drive/My Drive/Colab Notebooks/TP_Final_CV/output/output_at_iteration_23.png\n",
            "Iteration 23 completed in 6s\n",
            "Start of iteration 24\n",
            "Current loss value: 1173332500.0\n",
            "Image saved as /content/drive/My Drive/Colab Notebooks/TP_Final_CV/output/output_at_iteration_24.png\n",
            "Iteration 24 completed in 6s\n",
            "Start of iteration 25\n",
            "Current loss value: 1161573800.0\n",
            "Image saved as /content/drive/My Drive/Colab Notebooks/TP_Final_CV/output/output_at_iteration_25.png\n",
            "Iteration 25 completed in 6s\n",
            "Start of iteration 26\n",
            "Current loss value: 1152864500.0\n",
            "Image saved as /content/drive/My Drive/Colab Notebooks/TP_Final_CV/output/output_at_iteration_26.png\n",
            "Iteration 26 completed in 5s\n",
            "Start of iteration 27\n",
            "Current loss value: 1140168300.0\n",
            "Image saved as /content/drive/My Drive/Colab Notebooks/TP_Final_CV/output/output_at_iteration_27.png\n",
            "Iteration 27 completed in 6s\n",
            "Start of iteration 28\n",
            "Current loss value: 1128514800.0\n",
            "Image saved as /content/drive/My Drive/Colab Notebooks/TP_Final_CV/output/output_at_iteration_28.png\n",
            "Iteration 28 completed in 6s\n",
            "Start of iteration 29\n",
            "Current loss value: 1117601700.0\n",
            "Image saved as /content/drive/My Drive/Colab Notebooks/TP_Final_CV/output/output_at_iteration_29.png\n",
            "Iteration 29 completed in 6s\n",
            "Start of iteration 30\n",
            "Current loss value: 1108204900.0\n",
            "Image saved as /content/drive/My Drive/Colab Notebooks/TP_Final_CV/output/output_at_iteration_30.png\n",
            "Iteration 30 completed in 6s\n",
            "Start of iteration 31\n",
            "Current loss value: 1099773800.0\n",
            "Image saved as /content/drive/My Drive/Colab Notebooks/TP_Final_CV/output/output_at_iteration_31.png\n",
            "Iteration 31 completed in 5s\n",
            "Start of iteration 32\n",
            "Current loss value: 1091825000.0\n",
            "Image saved as /content/drive/My Drive/Colab Notebooks/TP_Final_CV/output/output_at_iteration_32.png\n",
            "Iteration 32 completed in 6s\n",
            "Start of iteration 33\n",
            "Current loss value: 1084786700.0\n",
            "Image saved as /content/drive/My Drive/Colab Notebooks/TP_Final_CV/output/output_at_iteration_33.png\n",
            "Iteration 33 completed in 6s\n",
            "Start of iteration 34\n",
            "Current loss value: 1077747100.0\n",
            "Image saved as /content/drive/My Drive/Colab Notebooks/TP_Final_CV/output/output_at_iteration_34.png\n",
            "Iteration 34 completed in 6s\n",
            "Start of iteration 35\n",
            "Current loss value: 1071505540.0\n",
            "Image saved as /content/drive/My Drive/Colab Notebooks/TP_Final_CV/output/output_at_iteration_35.png\n",
            "Iteration 35 completed in 6s\n",
            "Start of iteration 36\n",
            "Current loss value: 1066006500.0\n",
            "Image saved as /content/drive/My Drive/Colab Notebooks/TP_Final_CV/output/output_at_iteration_36.png\n",
            "Iteration 36 completed in 6s\n",
            "Start of iteration 37\n",
            "Current loss value: 1061151600.0\n",
            "Image saved as /content/drive/My Drive/Colab Notebooks/TP_Final_CV/output/output_at_iteration_37.png\n",
            "Iteration 37 completed in 6s\n",
            "Start of iteration 38\n",
            "Current loss value: 1056223200.0\n",
            "Image saved as /content/drive/My Drive/Colab Notebooks/TP_Final_CV/output/output_at_iteration_38.png\n",
            "Iteration 38 completed in 6s\n",
            "Start of iteration 39\n",
            "Current loss value: 1052412000.0\n",
            "Image saved as /content/drive/My Drive/Colab Notebooks/TP_Final_CV/output/output_at_iteration_39.png\n",
            "Iteration 39 completed in 5s\n",
            "Start of iteration 40\n",
            "Current loss value: 1047299840.0\n",
            "Image saved as /content/drive/My Drive/Colab Notebooks/TP_Final_CV/output/output_at_iteration_40.png\n",
            "Iteration 40 completed in 6s\n",
            "Start of iteration 41\n",
            "Current loss value: 1043019400.0\n",
            "Image saved as /content/drive/My Drive/Colab Notebooks/TP_Final_CV/output/output_at_iteration_41.png\n",
            "Iteration 41 completed in 6s\n",
            "Start of iteration 42\n",
            "Current loss value: 1039147260.0\n",
            "Image saved as /content/drive/My Drive/Colab Notebooks/TP_Final_CV/output/output_at_iteration_42.png\n",
            "Iteration 42 completed in 6s\n",
            "Start of iteration 43\n",
            "Current loss value: 1034777700.0\n",
            "Image saved as /content/drive/My Drive/Colab Notebooks/TP_Final_CV/output/output_at_iteration_43.png\n",
            "Iteration 43 completed in 6s\n",
            "Start of iteration 44\n",
            "Current loss value: 1031269570.0\n",
            "Image saved as /content/drive/My Drive/Colab Notebooks/TP_Final_CV/output/output_at_iteration_44.png\n",
            "Iteration 44 completed in 6s\n",
            "Start of iteration 45\n",
            "Current loss value: 1028079100.0\n",
            "Image saved as /content/drive/My Drive/Colab Notebooks/TP_Final_CV/output/output_at_iteration_45.png\n",
            "Iteration 45 completed in 6s\n",
            "Start of iteration 46\n",
            "Current loss value: 1024890600.0\n",
            "Image saved as /content/drive/My Drive/Colab Notebooks/TP_Final_CV/output/output_at_iteration_46.png\n",
            "Iteration 46 completed in 6s\n",
            "Start of iteration 47\n",
            "Current loss value: 1021684600.0\n",
            "Image saved as /content/drive/My Drive/Colab Notebooks/TP_Final_CV/output/output_at_iteration_47.png\n",
            "Iteration 47 completed in 6s\n",
            "Start of iteration 48\n",
            "Current loss value: 1018886800.0\n",
            "Image saved as /content/drive/My Drive/Colab Notebooks/TP_Final_CV/output/output_at_iteration_48.png\n",
            "Iteration 48 completed in 6s\n",
            "Start of iteration 49\n",
            "Current loss value: 1015347840.0\n",
            "Image saved as /content/drive/My Drive/Colab Notebooks/TP_Final_CV/output/output_at_iteration_49.png\n",
            "Iteration 49 completed in 6s\n",
            "Start of iteration 50\n",
            "Current loss value: 1012460700.0\n",
            "Image saved as /content/drive/My Drive/Colab Notebooks/TP_Final_CV/output/output_at_iteration_50.png\n",
            "Iteration 50 completed in 5s\n",
            "Start of iteration 51\n",
            "Current loss value: 1008686140.0\n",
            "Image saved as /content/drive/My Drive/Colab Notebooks/TP_Final_CV/output/output_at_iteration_51.png\n",
            "Iteration 51 completed in 6s\n",
            "Start of iteration 52\n",
            "Current loss value: 1005028800.0\n",
            "Image saved as /content/drive/My Drive/Colab Notebooks/TP_Final_CV/output/output_at_iteration_52.png\n",
            "Iteration 52 completed in 6s\n",
            "Start of iteration 53\n",
            "Current loss value: 1001296000.0\n",
            "Image saved as /content/drive/My Drive/Colab Notebooks/TP_Final_CV/output/output_at_iteration_53.png\n",
            "Iteration 53 completed in 6s\n",
            "Start of iteration 54\n",
            "Current loss value: 996423550.0\n",
            "Image saved as /content/drive/My Drive/Colab Notebooks/TP_Final_CV/output/output_at_iteration_54.png\n",
            "Iteration 54 completed in 6s\n",
            "Start of iteration 55\n",
            "Current loss value: 993958660.0\n",
            "Image saved as /content/drive/My Drive/Colab Notebooks/TP_Final_CV/output/output_at_iteration_55.png\n",
            "Iteration 55 completed in 6s\n",
            "Start of iteration 56\n",
            "Current loss value: 990938240.0\n",
            "Image saved as /content/drive/My Drive/Colab Notebooks/TP_Final_CV/output/output_at_iteration_56.png\n",
            "Iteration 56 completed in 6s\n",
            "Start of iteration 57\n",
            "Current loss value: 988176800.0\n",
            "Image saved as /content/drive/My Drive/Colab Notebooks/TP_Final_CV/output/output_at_iteration_57.png\n",
            "Iteration 57 completed in 6s\n",
            "Start of iteration 58\n",
            "Current loss value: 985781250.0\n",
            "Image saved as /content/drive/My Drive/Colab Notebooks/TP_Final_CV/output/output_at_iteration_58.png\n",
            "Iteration 58 completed in 6s\n",
            "Start of iteration 59\n",
            "Current loss value: 983580400.0\n",
            "Image saved as /content/drive/My Drive/Colab Notebooks/TP_Final_CV/output/output_at_iteration_59.png\n",
            "Iteration 59 completed in 6s\n",
            "Start of iteration 60\n",
            "Current loss value: 981291840.0\n",
            "Image saved as /content/drive/My Drive/Colab Notebooks/TP_Final_CV/output/output_at_iteration_60.png\n",
            "Iteration 60 completed in 6s\n",
            "Start of iteration 61\n",
            "Current loss value: 978929000.0\n",
            "Image saved as /content/drive/My Drive/Colab Notebooks/TP_Final_CV/output/output_at_iteration_61.png\n",
            "Iteration 61 completed in 6s\n",
            "Start of iteration 62\n",
            "Current loss value: 976717800.0\n",
            "Image saved as /content/drive/My Drive/Colab Notebooks/TP_Final_CV/output/output_at_iteration_62.png\n",
            "Iteration 62 completed in 6s\n",
            "Start of iteration 63\n",
            "Current loss value: 974671900.0\n",
            "Image saved as /content/drive/My Drive/Colab Notebooks/TP_Final_CV/output/output_at_iteration_63.png\n",
            "Iteration 63 completed in 6s\n",
            "Start of iteration 64\n",
            "Current loss value: 972068600.0\n",
            "Image saved as /content/drive/My Drive/Colab Notebooks/TP_Final_CV/output/output_at_iteration_64.png\n",
            "Iteration 64 completed in 6s\n",
            "Start of iteration 65\n",
            "Current loss value: 969708300.0\n",
            "Image saved as /content/drive/My Drive/Colab Notebooks/TP_Final_CV/output/output_at_iteration_65.png\n",
            "Iteration 65 completed in 6s\n",
            "Start of iteration 66\n",
            "Current loss value: 967330560.0\n",
            "Image saved as /content/drive/My Drive/Colab Notebooks/TP_Final_CV/output/output_at_iteration_66.png\n",
            "Iteration 66 completed in 6s\n",
            "Start of iteration 67\n",
            "Current loss value: 963931000.0\n",
            "Image saved as /content/drive/My Drive/Colab Notebooks/TP_Final_CV/output/output_at_iteration_67.png\n",
            "Iteration 67 completed in 6s\n",
            "Start of iteration 68\n",
            "Current loss value: 961933700.0\n",
            "Image saved as /content/drive/My Drive/Colab Notebooks/TP_Final_CV/output/output_at_iteration_68.png\n",
            "Iteration 68 completed in 6s\n",
            "Start of iteration 69\n",
            "Current loss value: 959720450.0\n",
            "Image saved as /content/drive/My Drive/Colab Notebooks/TP_Final_CV/output/output_at_iteration_69.png\n",
            "Iteration 69 completed in 6s\n",
            "Start of iteration 70\n",
            "Current loss value: 958129900.0\n",
            "Image saved as /content/drive/My Drive/Colab Notebooks/TP_Final_CV/output/output_at_iteration_70.png\n",
            "Iteration 70 completed in 5s\n",
            "Start of iteration 71\n",
            "Current loss value: 956666430.0\n",
            "Image saved as /content/drive/My Drive/Colab Notebooks/TP_Final_CV/output/output_at_iteration_71.png\n",
            "Iteration 71 completed in 6s\n",
            "Start of iteration 72\n",
            "Current loss value: 954883840.0\n",
            "Image saved as /content/drive/My Drive/Colab Notebooks/TP_Final_CV/output/output_at_iteration_72.png\n",
            "Iteration 72 completed in 6s\n",
            "Start of iteration 73\n",
            "Current loss value: 952258300.0\n",
            "Image saved as /content/drive/My Drive/Colab Notebooks/TP_Final_CV/output/output_at_iteration_73.png\n",
            "Iteration 73 completed in 6s\n",
            "Start of iteration 74\n",
            "Current loss value: 949700740.0\n",
            "Image saved as /content/drive/My Drive/Colab Notebooks/TP_Final_CV/output/output_at_iteration_74.png\n",
            "Iteration 74 completed in 6s\n",
            "Start of iteration 75\n",
            "Current loss value: 947123700.0\n",
            "Image saved as /content/drive/My Drive/Colab Notebooks/TP_Final_CV/output/output_at_iteration_75.png\n",
            "Iteration 75 completed in 6s\n",
            "Start of iteration 76\n",
            "Current loss value: 945563140.0\n",
            "Image saved as /content/drive/My Drive/Colab Notebooks/TP_Final_CV/output/output_at_iteration_76.png\n",
            "Iteration 76 completed in 6s\n",
            "Start of iteration 77\n",
            "Current loss value: 943995500.0\n",
            "Image saved as /content/drive/My Drive/Colab Notebooks/TP_Final_CV/output/output_at_iteration_77.png\n",
            "Iteration 77 completed in 6s\n",
            "Start of iteration 78\n",
            "Current loss value: 942675260.0\n",
            "Image saved as /content/drive/My Drive/Colab Notebooks/TP_Final_CV/output/output_at_iteration_78.png\n",
            "Iteration 78 completed in 6s\n",
            "Start of iteration 79\n",
            "Current loss value: 941214600.0\n",
            "Image saved as /content/drive/My Drive/Colab Notebooks/TP_Final_CV/output/output_at_iteration_79.png\n",
            "Iteration 79 completed in 6s\n",
            "Start of iteration 80\n",
            "Current loss value: 939859140.0\n",
            "Image saved as /content/drive/My Drive/Colab Notebooks/TP_Final_CV/output/output_at_iteration_80.png\n",
            "Iteration 80 completed in 5s\n",
            "Start of iteration 81\n",
            "Current loss value: 938414340.0\n",
            "Image saved as /content/drive/My Drive/Colab Notebooks/TP_Final_CV/output/output_at_iteration_81.png\n",
            "Iteration 81 completed in 6s\n",
            "Start of iteration 82\n",
            "Current loss value: 937148700.0\n",
            "Image saved as /content/drive/My Drive/Colab Notebooks/TP_Final_CV/output/output_at_iteration_82.png\n",
            "Iteration 82 completed in 5s\n",
            "Start of iteration 83\n",
            "Current loss value: 935877250.0\n",
            "Image saved as /content/drive/My Drive/Colab Notebooks/TP_Final_CV/output/output_at_iteration_83.png\n",
            "Iteration 83 completed in 6s\n",
            "Start of iteration 84\n",
            "Current loss value: 934620160.0\n",
            "Image saved as /content/drive/My Drive/Colab Notebooks/TP_Final_CV/output/output_at_iteration_84.png\n",
            "Iteration 84 completed in 6s\n",
            "Start of iteration 85\n",
            "Current loss value: 933370300.0\n",
            "Image saved as /content/drive/My Drive/Colab Notebooks/TP_Final_CV/output/output_at_iteration_85.png\n",
            "Iteration 85 completed in 6s\n",
            "Start of iteration 86\n",
            "Current loss value: 932257540.0\n",
            "Image saved as /content/drive/My Drive/Colab Notebooks/TP_Final_CV/output/output_at_iteration_86.png\n",
            "Iteration 86 completed in 6s\n",
            "Start of iteration 87\n",
            "Current loss value: 930969500.0\n",
            "Image saved as /content/drive/My Drive/Colab Notebooks/TP_Final_CV/output/output_at_iteration_87.png\n",
            "Iteration 87 completed in 5s\n",
            "Start of iteration 88\n",
            "Current loss value: 929686900.0\n",
            "Image saved as /content/drive/My Drive/Colab Notebooks/TP_Final_CV/output/output_at_iteration_88.png\n",
            "Iteration 88 completed in 6s\n",
            "Start of iteration 89\n",
            "Current loss value: 928562560.0\n",
            "Image saved as /content/drive/My Drive/Colab Notebooks/TP_Final_CV/output/output_at_iteration_89.png\n",
            "Iteration 89 completed in 6s\n",
            "Start of iteration 90\n",
            "Current loss value: 927471600.0\n",
            "Image saved as /content/drive/My Drive/Colab Notebooks/TP_Final_CV/output/output_at_iteration_90.png\n",
            "Iteration 90 completed in 6s\n",
            "Start of iteration 91\n",
            "Current loss value: 926290400.0\n",
            "Image saved as /content/drive/My Drive/Colab Notebooks/TP_Final_CV/output/output_at_iteration_91.png\n",
            "Iteration 91 completed in 6s\n",
            "Start of iteration 92\n",
            "Current loss value: 924884100.0\n",
            "Image saved as /content/drive/My Drive/Colab Notebooks/TP_Final_CV/output/output_at_iteration_92.png\n",
            "Iteration 92 completed in 6s\n",
            "Start of iteration 93\n",
            "Current loss value: 923467000.0\n",
            "Image saved as /content/drive/My Drive/Colab Notebooks/TP_Final_CV/output/output_at_iteration_93.png\n",
            "Iteration 93 completed in 6s\n",
            "Start of iteration 94\n",
            "Current loss value: 921996400.0\n",
            "Image saved as /content/drive/My Drive/Colab Notebooks/TP_Final_CV/output/output_at_iteration_94.png\n",
            "Iteration 94 completed in 6s\n",
            "Start of iteration 95\n",
            "Current loss value: 920288400.0\n",
            "Image saved as /content/drive/My Drive/Colab Notebooks/TP_Final_CV/output/output_at_iteration_95.png\n",
            "Iteration 95 completed in 6s\n",
            "Start of iteration 96\n",
            "Current loss value: 918784900.0\n",
            "Image saved as /content/drive/My Drive/Colab Notebooks/TP_Final_CV/output/output_at_iteration_96.png\n",
            "Iteration 96 completed in 6s\n",
            "Start of iteration 97\n",
            "Current loss value: 917976600.0\n",
            "Image saved as /content/drive/My Drive/Colab Notebooks/TP_Final_CV/output/output_at_iteration_97.png\n",
            "Iteration 97 completed in 6s\n",
            "Start of iteration 98\n",
            "Current loss value: 917046500.0\n",
            "Image saved as /content/drive/My Drive/Colab Notebooks/TP_Final_CV/output/output_at_iteration_98.png\n",
            "Iteration 98 completed in 5s\n",
            "Start of iteration 99\n",
            "Current loss value: 916049000.0\n",
            "Image saved as /content/drive/My Drive/Colab Notebooks/TP_Final_CV/output/output_at_iteration_99.png\n",
            "Iteration 99 completed in 6s\n"
          ],
          "name": "stdout"
        }
      ]
    },
    {
      "cell_type": "markdown",
      "metadata": {
        "id": "SkiJtofbWWy1"
      },
      "source": [
        "# 8) Generar imágenes para distintas combinaciones de pesos de las losses. Explicar las diferencias. (Adjuntar las imágenes generadas como archivos separados.)\n",
        "\n",
        "Respuesta:\n",
        "\n",
        "# 9) Cambiar las imágenes de contenido y estilo por unas elegidas por usted. Adjuntar el resultado.\n",
        "\n",
        "Respuesta:"
      ]
    }
  ]
}